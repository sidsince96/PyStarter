{
  "nbformat": 4,
  "nbformat_minor": 0,
  "metadata": {
    "colab": {
      "provenance": [],
      "collapsed_sections": [],
      "authorship_tag": "ABX9TyNlrMMBOngWraJ9JpbMzLL9",
      "include_colab_link": true
    },
    "kernelspec": {
      "name": "python3",
      "display_name": "Python 3"
    },
    "language_info": {
      "name": "python"
    }
  },
  "cells": [
    {
      "cell_type": "markdown",
      "metadata": {
        "id": "view-in-github",
        "colab_type": "text"
      },
      "source": [
        "<a href=\"https://colab.research.google.com/github/sidsince96/PyStarter/blob/main/Beginner/01_Iteration_Problem_Solving.ipynb\" target=\"_parent\"><img src=\"https://colab.research.google.com/assets/colab-badge.svg\" alt=\"Open In Colab\"/></a>"
      ]
    },
    {
      "cell_type": "markdown",
      "source": [
        "\n",
        "##**Q. Print Squares of Given Numbers**\n",
        "\n",
        "Using a loop, Print the squares of the following numbers: 1, 3, 6, 10, 15, 21.\n",
        "\n",
        "Print each of the number in a new line."
      ],
      "metadata": {
        "id": "YWJbv6GdG9iJ"
      }
    },
    {
      "cell_type": "code",
      "execution_count": 1,
      "metadata": {
        "colab": {
          "base_uri": "https://localhost:8080/"
        },
        "id": "ZyEJUan2GwR7",
        "outputId": "9e769400-d113-45a4-9c5d-5b9113cecf77"
      },
      "outputs": [
        {
          "output_type": "stream",
          "name": "stdout",
          "text": [
            "1\n",
            "9\n",
            "36\n",
            "100\n",
            "225\n",
            "441\n"
          ]
        }
      ],
      "source": [
        "def main():\n",
        "    i = 1\n",
        "    step = 2 \n",
        "    while i <= 21:\n",
        "        print(i*i)\n",
        "        i += step\n",
        "        step += 1\n",
        "\n",
        "\n",
        "    return 0\n",
        "\n",
        "if __name__ == '__main__':\n",
        "    main()"
      ]
    },
    {
      "cell_type": "markdown",
      "source": [
        "---\n",
        "##**Q. Is It Prime?**\n",
        "\n",
        "\n",
        "###Problem Description\n",
        "\n",
        "\n",
        "\n",
        "\n",
        "Given an integer A, you have to tell whether it is a prime number or not.\n",
        "\n",
        "\n",
        "\n",
        "\n",
        "A prime number is a natural number greater than 1 which is divisible only by 1 and itself.\n",
        "\n",
        "\n",
        "\n",
        "###Problem Constraints\n",
        "\n",
        "1 <= A <= 106\n",
        "\n",
        "\n",
        "\n",
        "###Input Format\n",
        "\n",
        "First and only line of the input contains a single integer A.\n",
        "\n",
        "\n",
        "\n",
        "###Output Format\n",
        "\n",
        "Print YES if A is a prime, else print NO.\n",
        "\n",
        "\n",
        "\n",
        "###Example Input\n",
        "\n",
        "Input 1:\n",
        "```\n",
        " 3 \n",
        " ```\n",
        "Input 2:\n",
        "```\n",
        " 4 \n",
        " ```\n",
        "\n",
        "\n",
        "###Example Output\n",
        "\n",
        "Output 1:\n",
        "```\n",
        " YES \n",
        " ```\n",
        "Output 2:\n",
        "```\n",
        " NO \n",
        " ```\n",
        "\n",
        "\n",
        "###Example Explanation\n",
        "\n",
        "Explanation 1:\n",
        "\n",
        " 3 is a prime number as it is only divisible by 1 and 3.\n",
        "\n",
        "Explanation 2:\n",
        "\n",
        " 4 is not a prime number as it is divisible by 2.\n",
        "\n",
        "\n"
      ],
      "metadata": {
        "id": "-TVPrCeqHUdX"
      }
    },
    {
      "cell_type": "code",
      "source": [
        "def main():\n",
        "    A = int(input())\n",
        "    if A > 1:\n",
        "        for i in range (2,A):\n",
        "            if A % i == 0:\n",
        "                print('NO')\n",
        "                break\n",
        "        else:\n",
        "            print('YES')\n",
        "    else:\n",
        "        print('NO')\n",
        "\n",
        "    return 0\n",
        "\n",
        "if __name__ == '__main__':\n",
        "    main()"
      ],
      "metadata": {
        "colab": {
          "base_uri": "https://localhost:8080/"
        },
        "id": "OgNmiqAJJgmZ",
        "outputId": "41e1e0aa-f25e-4864-e9e2-f0935dad2c50"
      },
      "execution_count": 2,
      "outputs": [
        {
          "output_type": "stream",
          "name": "stdout",
          "text": [
            "23\n",
            "YES\n"
          ]
        }
      ]
    },
    {
      "cell_type": "markdown",
      "source": [
        "---"
      ],
      "metadata": {
        "id": "A9dLF4obVFHG"
      }
    }
  ]
}