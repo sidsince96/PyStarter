{
  "nbformat": 4,
  "nbformat_minor": 0,
  "metadata": {
    "colab": {
      "provenance": [],
      "collapsed_sections": [],
      "authorship_tag": "ABX9TyM1vLAXpjNnqFPsVe6ah9+/"
    },
    "kernelspec": {
      "name": "python3",
      "display_name": "Python 3"
    },
    "language_info": {
      "name": "python"
    }
  },
  "cells": [
    {
      "cell_type": "markdown",
      "source": [
        "\n",
        "##**Q. Print Squares of Given Numbers**\n",
        "\n",
        "Using a loop, Print the squares of the following numbers: 1, 3, 6, 10, 15, 21.\n",
        "\n",
        "Print each of the number in a new line."
      ],
      "metadata": {
        "id": "YWJbv6GdG9iJ"
      }
    },
    {
      "cell_type": "code",
      "execution_count": 1,
      "metadata": {
        "colab": {
          "base_uri": "https://localhost:8080/"
        },
        "id": "ZyEJUan2GwR7",
        "outputId": "9e769400-d113-45a4-9c5d-5b9113cecf77"
      },
      "outputs": [
        {
          "output_type": "stream",
          "name": "stdout",
          "text": [
            "1\n",
            "9\n",
            "36\n",
            "100\n",
            "225\n",
            "441\n"
          ]
        }
      ],
      "source": [
        "def main():\n",
        "    i = 1\n",
        "    step = 2 \n",
        "    while i <= 21:\n",
        "        print(i*i)\n",
        "        i += step\n",
        "        step += 1\n",
        "\n",
        "\n",
        "    return 0\n",
        "\n",
        "if __name__ == '__main__':\n",
        "    main()"
      ]
    },
    {
      "cell_type": "markdown",
      "source": [
        "---"
      ],
      "metadata": {
        "id": "aQTjcODtXGH-"
      }
    },
    {
      "cell_type": "markdown",
      "source": [
        "\n",
        "##**Q. Is It Prime?**\n",
        "\n",
        "\n",
        "###Problem Description\n",
        "\n",
        "\n",
        "\n",
        "\n",
        "Given an integer A, you have to tell whether it is a prime number or not.\n",
        "\n",
        "\n",
        "\n",
        "\n",
        "A prime number is a natural number greater than 1 which is divisible only by 1 and itself.\n",
        "\n",
        "\n",
        "\n",
        "###Problem Constraints\n",
        "\n",
        "1 <= A <= 106\n",
        "\n",
        "\n",
        "\n",
        "###Input Format\n",
        "\n",
        "First and only line of the input contains a single integer A.\n",
        "\n",
        "\n",
        "\n",
        "###Output Format\n",
        "\n",
        "Print YES if A is a prime, else print NO.\n",
        "\n",
        "\n",
        "\n",
        "###Example Input\n",
        "\n",
        "Input 1:\n",
        "```\n",
        " 3 \n",
        " ```\n",
        "Input 2:\n",
        "```\n",
        " 4 \n",
        " ```\n",
        "\n",
        "\n",
        "###Example Output\n",
        "\n",
        "Output 1:\n",
        "```\n",
        " YES \n",
        " ```\n",
        "Output 2:\n",
        "```\n",
        " NO \n",
        " ```\n",
        "\n",
        "\n",
        "###Example Explanation\n",
        "\n",
        "Explanation 1:\n",
        "\n",
        " 3 is a prime number as it is only divisible by 1 and 3.\n",
        "\n",
        "Explanation 2:\n",
        "\n",
        " 4 is not a prime number as it is divisible by 2.\n",
        "\n",
        "\n"
      ],
      "metadata": {
        "id": "-TVPrCeqHUdX"
      }
    },
    {
      "cell_type": "code",
      "source": [
        "def main():\n",
        "    A = int(input())\n",
        "    if A > 1:\n",
        "        for i in range (2,A):\n",
        "            if A % i == 0:\n",
        "                print('NO')\n",
        "                break\n",
        "        else:\n",
        "            print('YES')\n",
        "    else:\n",
        "        print('NO')\n",
        "\n",
        "    return 0\n",
        "\n",
        "if __name__ == '__main__':\n",
        "    main()"
      ],
      "metadata": {
        "colab": {
          "base_uri": "https://localhost:8080/"
        },
        "id": "OgNmiqAJJgmZ",
        "outputId": "41e1e0aa-f25e-4864-e9e2-f0935dad2c50"
      },
      "execution_count": 2,
      "outputs": [
        {
          "output_type": "stream",
          "name": "stdout",
          "text": [
            "23\n",
            "YES\n"
          ]
        }
      ]
    },
    {
      "cell_type": "markdown",
      "source": [
        "---"
      ],
      "metadata": {
        "id": "A9dLF4obVFHG"
      }
    },
    {
      "cell_type": "markdown",
      "source": [
        "## **Q. Integer in Words**\n",
        "\n",
        "### Problem Description\n",
        "\n",
        "You are given an integer A. You have to print A in word form.\n",
        "\n",
        "Following are the words which should be replaced in place of a digit:\n",
        "```\n",
        "For digit = 0, word = zero\n",
        "For digit = 1, word = one\n",
        "For digit = 2, word = two\n",
        "For digit = 3, word = three\n",
        "For digit = 4, word = four\n",
        "For digit = 5, word = five\n",
        "For digit = 6, word = six\n",
        "For digit = 7, word = seven\n",
        "For digit = 8, word = eight\n",
        "For digit = 9, word = nine\n",
        "```\n",
        "For eg., If A = 2634, you should print two six three four.\n",
        "\n",
        "NOTE: Words should be seperated by a single space. Also, the output is case sensitive.\n",
        "\n",
        "\n",
        "\n",
        "###Problem Constraints\n",
        "\n",
        "1 <= A <= 106\n",
        "\n",
        "\n",
        "\n",
        "###Input Format\n",
        "\n",
        "First and the only line consists of a single integer A.\n",
        "\n",
        "\n",
        "\n",
        "###Output Format\n",
        "\n",
        "Print the integer in word form on a single line.\n",
        "\n",
        "\n",
        "\n",
        "###Example Input\n",
        "\n",
        "Input 1:\n",
        "```\n",
        " 1234 \n",
        " ```\n",
        "Input 2:\n",
        "```\n",
        " 3 \n",
        " ```\n",
        "\n",
        "\n",
        "###Example Output\n",
        "\n",
        "Output 1:\n",
        "```\n",
        " one two three four \n",
        " ```\n",
        "Output 2:\n",
        "```\n",
        " three \n",
        "```\n",
        "\n",
        "###Example Explanation\n",
        "\n",
        "Explanation 1:\n",
        "\n",
        " A = 1234 can be written as \"one two three four\" in words.\n",
        " \n",
        "Explanation 2:\n",
        "\n",
        " A = 3 can be written as \"three\" in words."
      ],
      "metadata": {
        "id": "0fPS5yi8ac3W"
      }
    },
    {
      "cell_type": "code",
      "source": [
        "def main():\n",
        "    A = input()\n",
        "    for i in A:\n",
        "        if i == '0':\n",
        "            print('zero',end=' ')\n",
        "        elif i == '1':\n",
        "            print('one',end=' ')\n",
        "        elif i == '2':\n",
        "            print('two',end=' ')\n",
        "        elif i == '3':\n",
        "            print('three',end=' ')  \n",
        "        elif i == '4':\n",
        "            print('four',end=' ')\n",
        "        elif i == '5':\n",
        "            print('five',end=' ')\n",
        "        elif i == '6':\n",
        "            print('six',end=' ')\n",
        "        elif i == '7':\n",
        "            print('seven',end=' ')\n",
        "        elif i == '8':\n",
        "            print('eight',end=' ')\n",
        "        elif i == '9':\n",
        "            print('nine', end =' ')\n",
        "\n",
        "    return 0\n",
        "\n",
        "if __name__ == '__main__':\n",
        "    main()"
      ],
      "metadata": {
        "colab": {
          "base_uri": "https://localhost:8080/"
        },
        "id": "izqrjI1mcWR-",
        "outputId": "7d4c7a39-9309-4306-c948-36e35782bd1e"
      },
      "execution_count": 3,
      "outputs": [
        {
          "output_type": "stream",
          "name": "stdout",
          "text": [
            "7654\n",
            "seven six five four "
          ]
        }
      ]
    },
    {
      "cell_type": "markdown",
      "source": [
        "---"
      ],
      "metadata": {
        "id": "6eb7LlCOcf3-"
      }
    },
    {
      "cell_type": "markdown",
      "source": [
        "## **Q. Print the Primes!**\n",
        "\n",
        "### Problem Description\n",
        "\n",
        "You are given an integer N you need to print all the Prime Numbers between 1 and N.\n",
        "\n",
        "Prime numbers are numbers that have only 2 factors: 1 and themselves. For example, the first 5 prime numbers are 2, 3, 5, 7, and 11.\n",
        "\n",
        "\n",
        "\n",
        "### Problem Constraints\n",
        "\n",
        "1 <= N <= 300\n",
        "\n",
        "\n",
        "\n",
        "###Input Format\n",
        "\n",
        "First and only line of input contains a single integer N.\n",
        "\n",
        "\n",
        "\n",
        "###Output Format\n",
        "\n",
        "Print all the prime numbers between between 1 and N each in a new line.\n",
        "\n",
        "\n",
        "\n",
        "###Example Input\n",
        "\n",
        "Input 1:\n",
        "```\n",
        " 5\n",
        " ```\n",
        "Input 2:\n",
        "```\n",
        " 10\n",
        " ```\n",
        "\n",
        "\n",
        "###Example Output\n",
        "\n",
        "Output 1:\n",
        "```\n",
        " 2\n",
        " 3\n",
        " 5\n",
        " ```\n",
        "Output 2:\n",
        "```\n",
        " 2\n",
        " 3\n",
        " 5\n",
        " 7\n",
        " ```\n",
        "\n",
        "\n",
        "###Example Explanation\n",
        "\n",
        "Explanation 1:\n",
        "\n",
        " Prime numbers between [1, 5] are (2, 3, 5).\n",
        " \n",
        "Explanation 2:\n",
        "\n",
        " Prime numbers between [1, 10] are (2, 3, 5, 7)\n"
      ],
      "metadata": {
        "id": "x6zG--rkdAEN"
      }
    },
    {
      "cell_type": "code",
      "source": [
        "def main():\n",
        "    N = int(input())\n",
        "    for j in range (2,N+1):\n",
        "        for i in range(2,j):\n",
        "            if j % i ==0:\n",
        "                break\n",
        "        else:\n",
        "            print(j)\n",
        "\n",
        "    return 0\n",
        "\n",
        "if __name__ == '__main__':\n",
        "    main()"
      ],
      "metadata": {
        "colab": {
          "base_uri": "https://localhost:8080/"
        },
        "id": "EY2eJl4JdkwA",
        "outputId": "cc65d415-97a0-458a-e1aa-93ab2703bcef"
      },
      "execution_count": 4,
      "outputs": [
        {
          "output_type": "stream",
          "name": "stdout",
          "text": [
            "50\n",
            "2\n",
            "3\n",
            "5\n",
            "7\n",
            "11\n",
            "13\n",
            "17\n",
            "19\n",
            "23\n",
            "29\n",
            "31\n",
            "37\n",
            "41\n",
            "43\n",
            "47\n"
          ]
        }
      ]
    },
    {
      "cell_type": "markdown",
      "source": [
        "---"
      ],
      "metadata": {
        "id": "7l3SntzmdqxC"
      }
    },
    {
      "cell_type": "markdown",
      "source": [
        "## **Q. Is It Perfect?**\n",
        "\n",
        "### Problem Description\n",
        "\n",
        "You are given N positive integers.\n",
        "\n",
        "For each given integer A, you have to tell whether it is a perfect number or not.\n",
        "\n",
        "A perfect number is a positive integer which is equal to the sum of its proper positive divisors.\n",
        "\n",
        "\n",
        "\n",
        "###Problem Constraints\n",
        "\n",
        "1 <= N <= 10\n",
        "\n",
        "1 <= A <= 106\n",
        "\n",
        "\n",
        "\n",
        "###Input Format\n",
        "\n",
        "The first line of the input contains a single integer N.\n",
        "\n",
        "Each of the next N lines contains a single integer A.\n",
        "\n",
        "\n",
        "\n",
        "###Output Format\n",
        "\n",
        "In a separate line, print YES if a given integer is perfect, else print NO.\n",
        "\n",
        "\n",
        "\n",
        "###Example Input\n",
        "\n",
        "Input 1:\n",
        "```\n",
        " 2\n",
        " 4\n",
        " 6 \n",
        " ```\n",
        "Input 2:\n",
        "```\n",
        " 1\n",
        " 3 \n",
        "```\n",
        "\n",
        "###Example Output\n",
        "\n",
        "Output 1:\n",
        "```\n",
        " NO\n",
        " YES \n",
        " ```\n",
        "Output 2:\n",
        "```\n",
        " NO \n",
        "```\n",
        "\n",
        "###Example Explanation\n",
        "\n",
        "Explanation 1:\n",
        "\n",
        " For A = 4, the answer is \"NO\" as sum of its proper divisors = 1 + 2 = 3, is not equal to 4. \n",
        " For A = 6, the answer is \"YES\" as sum of its proper divisors = 1 + 2 + 3 = 6, is equal to 6. \n",
        " \n",
        "Explanation 2:\n",
        "\n",
        " For A = 3, the answer is \"NO\" as sum of its proper divisors = 1, is not equal to 3. "
      ],
      "metadata": {
        "id": "ikbBd8Teds8j"
      }
    },
    {
      "cell_type": "code",
      "source": [
        "def main():\n",
        "    N = int(input())\n",
        "    while N != 0:\n",
        "\n",
        "        A = int(input())\n",
        "        sum_ = 0\n",
        "        for i in range(1,A):\n",
        "            if A % i == 0:\n",
        "                sum_ += i\n",
        "        if sum_ == A:\n",
        "            print('YES')\n",
        "        else:\n",
        "            print('NO')\n",
        "\n",
        "        N -= 1\n",
        "\n",
        "\n",
        "    return 0\n",
        "\n",
        "if __name__ == '__main__':\n",
        "    main()"
      ],
      "metadata": {
        "colab": {
          "base_uri": "https://localhost:8080/"
        },
        "id": "azUIfFnVeHws",
        "outputId": "ccd5658a-bd14-4f8f-db4e-b57bead30fee"
      },
      "execution_count": 5,
      "outputs": [
        {
          "output_type": "stream",
          "name": "stdout",
          "text": [
            "2\n",
            "6\n",
            "YES\n",
            "9\n",
            "NO\n"
          ]
        }
      ]
    },
    {
      "cell_type": "markdown",
      "source": [
        "---"
      ],
      "metadata": {
        "id": "tk3Y2IobeXKj"
      }
    },
    {
      "cell_type": "markdown",
      "source": [
        "## **Q. Perfect Numbers - II**\n",
        "\n",
        "### Problem Description\n",
        "You are given an integer A.\n",
        "\n",
        "You have to print all the perfect numbers which lie in the range [1, A] in ascending order.\n",
        "\n",
        "Perfect number is a positive integer which is equal to the sum of its proper positive divisors.\n",
        "\n",
        "A proper divisor of a natural number is the divisor that is strictly less than the number.\n",
        "\n",
        "\n",
        "\n",
        "### Problem Constraints\n",
        "1 <= A <= 1000\n",
        "\n",
        "\n",
        "\n",
        "###Input Format\n",
        "First and only line of the input contains a single positive integer A.\n",
        "\n",
        "\n",
        "\n",
        "###Output Format\n",
        "Print the perfect numbers in ascending order on separate lines.\n",
        "\n",
        "\n",
        "\n",
        "###Example Input\n",
        "Input 1:\n",
        "```\n",
        " 8 \n",
        " ```\n",
        "Input 2:\n",
        "```\n",
        " 35 \n",
        " ```\n",
        "\n",
        "\n",
        "###Example Output\n",
        "Output 1:\n",
        "```\n",
        " 6 \n",
        " ```\n",
        "Output 2:\n",
        "```\n",
        " 6 \n",
        " 28 \n",
        "```\n",
        "\n",
        "###Example Explanation\n",
        "Explanation 1:\n",
        "\n",
        " For A = 8,\n",
        " In the range [1, 8], only 6 can be written as sum of its proper divisors, i.e. 6 = 1 + 2 + 3. \n",
        " \n",
        "Explanation 2:\n",
        "\n",
        " For A = 35,\n",
        " Perfect numbers 6 and 28, lie in the range [1, 35]."
      ],
      "metadata": {
        "id": "46styuaceX84"
      }
    },
    {
      "cell_type": "code",
      "source": [
        "def main():\n",
        "    A = int(input())\n",
        "    for j in range(1,A+1):\n",
        "        sum_ = 0\n",
        "        for i in range(1,j):\n",
        "            if j % i == 0:\n",
        "                sum_ += i\n",
        "        if j == sum_:\n",
        "            print(j)\n",
        "   \n",
        "    return 0\n",
        "\n",
        "if __name__ == '__main__':\n",
        "    main()"
      ],
      "metadata": {
        "colab": {
          "base_uri": "https://localhost:8080/"
        },
        "id": "DvELYbxYe1DI",
        "outputId": "5d67559d-b278-47b3-f29b-5886f8c0f921"
      },
      "execution_count": 6,
      "outputs": [
        {
          "output_type": "stream",
          "name": "stdout",
          "text": [
            "35\n",
            "6\n",
            "28\n"
          ]
        }
      ]
    },
    {
      "cell_type": "markdown",
      "source": [
        "---"
      ],
      "metadata": {
        "id": "XI5ZEYpTe518"
      }
    }
  ]
}